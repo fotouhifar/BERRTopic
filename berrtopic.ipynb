{
 "cells": [
  {
   "cell_type": "code",
   "execution_count": null,
   "id": "66c236ea",
   "metadata": {},
   "outputs": [],
   "source": [
    "from bertopic import BERTopic\n"
   ]
  },
  {
   "cell_type": "code",
   "execution_count": null,
   "id": "c9312759",
   "metadata": {},
   "outputs": [],
   "source": [
    "import kagglehub\n",
    "from kagglehub import KaggleDatasetAdapter"
   ]
  },
  {
   "cell_type": "markdown",
   "id": "2f074b06",
   "metadata": {},
   "source": [
    "## Getting data from kaggle"
   ]
  },
  {
   "cell_type": "code",
   "execution_count": null,
   "id": "e94529c1",
   "metadata": {},
   "outputs": [],
   "source": [
    "file_path = \"spam_mail_classifier.csv\"\n"
   ]
  },
  {
   "cell_type": "code",
   "execution_count": null,
   "id": "2de59e1b",
   "metadata": {},
   "outputs": [],
   "source": [
    "df = kagglehub.load_dataset(\n",
    "  KaggleDatasetAdapter.PANDAS,\n",
    "  \"sahideseker/spam-mail-classifier-dataset\",\n",
    "  file_path,\n",
    "  # Provide any additional arguments like \n",
    "  # sql_query or pandas_kwargs. See the \n",
    "  # documenation for more information:\n",
    "  # https://github.com/Kaggle/kagglehub/blob/main/README.md#kaggledatasetadapterpandas\n",
    ")"
   ]
  },
  {
   "cell_type": "markdown",
   "id": "202661f9",
   "metadata": {},
   "source": [
    "## Head of data"
   ]
  },
  {
   "cell_type": "code",
   "execution_count": null,
   "id": "a2e5028b",
   "metadata": {},
   "outputs": [],
   "source": [
    "print(\"First 5 records:\", df.head())"
   ]
  },
  {
   "cell_type": "markdown",
   "id": "672433c2",
   "metadata": {},
   "source": [
    "## Data distribution "
   ]
  },
  {
   "cell_type": "code",
   "execution_count": null,
   "id": "d3e498f9",
   "metadata": {},
   "outputs": [],
   "source": [
    "df['label'].hist(figsize=(2, 2), bins=2, rwidth=0.9)"
   ]
  },
  {
   "cell_type": "markdown",
   "id": "f0b0ce15",
   "metadata": {},
   "source": [
    "# Step 1\n",
    "\n",
    "## Training BERT"
   ]
  },
  {
   "cell_type": "markdown",
   "id": "0faaf3c5",
   "metadata": {},
   "source": [
    "BERTopic works by converting documents into numerical values, called embeddings. This process can be very costly, especially if we want to iterate over parameters. Instead, we can calculate those embeddings once and feed them to BERTopic to skip calculating embeddings each time."
   ]
  },
  {
   "cell_type": "code",
   "execution_count": null,
   "id": "f8b4f402",
   "metadata": {},
   "outputs": [],
   "source": [
    "from sentence_transformers import SentenceTransformer\n",
    "embedding_model  = SentenceTransformer(\"all-MiniLM-L6-v2\")\n",
    "embeddings = embedding_model.encode(df['email_text'], show_progress_bar=True)\n"
   ]
  },
  {
   "cell_type": "markdown",
   "id": "9de34619",
   "metadata": {},
   "source": [
    "<b> Preventing Stochastic Behavior </b>\n",
    "\n",
    "In BERTopic, we generally use a dimensionality reduction algorithm to reduce the size of the embeddings. This is done to prevent the curse of dimensionality to a certain degree.\n",
    "As a default, this is done with UMAP which is an incredible algorithm for reducing dimensional space. However, by default, it shows stochastic behavior which creates different results each time you run it. To prevent that, we will need to set a random_state of the model before passing it to BERTopic.\n",
    "As a result, we can now fully reproduce the results each time we run the model."
   ]
  },
  {
   "cell_type": "code",
   "execution_count": null,
   "id": "2c1b13b0",
   "metadata": {},
   "outputs": [],
   "source": [
    "from umap import UMAP\n",
    "\n",
    "umap_model = UMAP(n_neighbors=15, n_components=5, min_dist=0.0, metric='cosine', random_state=42)"
   ]
  },
  {
   "cell_type": "markdown",
   "id": "a1273e3d",
   "metadata": {},
   "source": [
    "<b>Controlling Number of Topics</b>\n",
    "\n",
    "There is a parameter to control the number of topics, namely nr_topics. This parameter, however, merges topics after they have been created. It is a parameter that supports creating a fixed number of topics.\n",
    "However, it is advised to control the number of topics through the cluster model which is by default HDBSCAN. HDBSCAN has a parameter, namely min_cluster_size that indirectly controls the number of topics that will be created."
   ]
  },
  {
   "cell_type": "code",
   "execution_count": null,
   "id": "615204c7",
   "metadata": {},
   "outputs": [],
   "source": [
    "from hdbscan import HDBSCAN\n",
    "\n",
    "hdbscan_model = HDBSCAN(min_cluster_size=10, metric='euclidean', cluster_selection_method='eom', prediction_data=True)"
   ]
  },
  {
   "cell_type": "code",
   "execution_count": null,
   "id": "dd301d83",
   "metadata": {},
   "outputs": [],
   "source": [
    "topic_model = BERTopic(embedding_model=embedding_model,\n",
    "                        umap_model=umap_model,\n",
    "                        hdbscan_model=hdbscan_model\n",
    "                        )\n",
    "topics, probs = topic_model.fit_transform(df['email_text'])\n"
   ]
  },
  {
   "cell_type": "code",
   "execution_count": null,
   "id": "a6d22831",
   "metadata": {},
   "outputs": [],
   "source": [
    "topic_model.visualize_barchart()"
   ]
  },
  {
   "cell_type": "markdown",
   "id": "e40c3ec7",
   "metadata": {},
   "source": [
    "# Step 2\n",
    "\n",
    "## Improving topics representation"
   ]
  },
  {
   "cell_type": "markdown",
   "id": "09fc5231",
   "metadata": {},
   "source": [
    "<b>Improving Default Representation</b>\n",
    "\n",
    "The default representation of topics is calculated through c-TF-IDF. However, c-TF-IDF is powered by the CountVectorizer which converts text into tokens. Using the CountVectorizer, we can do a number of things:\n",
    "Remove stopwords\n",
    "Ignore infrequent words\n",
    "Increase the n-gram range\n",
    "In other words, we can preprocess the topic <b>representations, after</b> documents are assigned to topics. <b>This will not influence the clustering process in any way.</b>"
   ]
  },
  {
   "cell_type": "code",
   "execution_count": null,
   "id": "1b064c61",
   "metadata": {},
   "outputs": [],
   "source": [
    "from sklearn.feature_extraction.text import CountVectorizer\n",
    "vectorizer_model = CountVectorizer(stop_words=\"english\", \n",
    "                                    min_df=0.1, \n",
    "                                    max_df=0.9,\n",
    "                                    ngram_range=(1, 3))"
   ]
  },
  {
   "cell_type": "code",
   "execution_count": null,
   "id": "a965029b",
   "metadata": {},
   "outputs": [],
   "source": [
    "topic_model.update_topics(df['email_text'],\n",
    "                        vectorizer_model=vectorizer_model               \n",
    "                       )\n"
   ]
  },
  {
   "cell_type": "code",
   "execution_count": null,
   "id": "1db90b24",
   "metadata": {},
   "outputs": [],
   "source": [
    "topic_model.visualize_barchart()"
   ]
  },
  {
   "cell_type": "code",
   "execution_count": null,
   "id": "21a6b0a8",
   "metadata": {},
   "outputs": [],
   "source": [
    "topic_model.visualize_topics()"
   ]
  },
  {
   "cell_type": "code",
   "execution_count": null,
   "id": "a4fff7de",
   "metadata": {},
   "outputs": [],
   "source": [
    "import openai\n",
    "from bertopic.representation import KeyBERTInspired, MaximalMarginalRelevance, OpenAI, PartOfSpeech\n"
   ]
  },
  {
   "cell_type": "code",
   "execution_count": null,
   "id": "a7f15572",
   "metadata": {},
   "outputs": [],
   "source": [
    "import openai\n",
    "from bertopic.representation import KeyBERTInspired, MaximalMarginalRelevance, PartOfSpeech\n"
   ]
  },
  {
   "cell_type": "code",
   "execution_count": null,
   "id": "34a10b2c",
   "metadata": {},
   "outputs": [],
   "source": [
    "# KeyBERT\n",
    "keybert_model = KeyBERTInspired()\n",
    "\n",
    "# Part-of-Speech\n",
    "#pos_model = PartOfSpeech(\"en_core_web_sm\")\n",
    "pos_model = PartOfSpeech(\"en_core_web_trf\")\n",
    "\n",
    "\n",
    "\n",
    "# MMR\n",
    "mmr_model = MaximalMarginalRelevance(diversity=0.9)\n",
    "\n",
    "# All representation models\n",
    "representation_model = {\n",
    "    \"KeyBERT\": keybert_model,\n",
    "    \"MMR\": mmr_model,\n",
    "    \"POS\": pos_model\n",
    "}"
   ]
  },
  {
   "cell_type": "code",
   "execution_count": null,
   "id": "2d414f5b",
   "metadata": {},
   "outputs": [],
   "source": [
    "topic_model.update_topics(df['email_text'],\n",
    "                        vectorizer_model=vectorizer_model,            \n",
    "                        representation_model=representation_model,\n",
    "                        top_n_words=10\n",
    "                        )"
   ]
  },
  {
   "cell_type": "code",
   "execution_count": null,
   "id": "e3d04bb9",
   "metadata": {},
   "outputs": [],
   "source": [
    "topic_model.visualize_barchart()"
   ]
  },
  {
   "cell_type": "code",
   "execution_count": null,
   "id": "868fdce1",
   "metadata": {},
   "outputs": [],
   "source": [
    "topic_model.get_topic_info()\n"
   ]
  },
  {
   "cell_type": "code",
   "execution_count": null,
   "id": "cd2bd4e2",
   "metadata": {},
   "outputs": [],
   "source": [
    "tpcs = topic_model.get_topic(1, full=True)\n",
    "for t in tpcs:\n",
    "    print(t)\n",
    "    for pairs in tpcs[t]:\n",
    "        print(f\" {pairs[0]:>30}    {pairs[1]:.2f}\")\n",
    "    print('*'*80)\n",
    "\n",
    "\n"
   ]
  },
  {
   "cell_type": "code",
   "execution_count": null,
   "id": "c5fc98be",
   "metadata": {},
   "outputs": [],
   "source": [
    "topic_model.get_topic_info()['Count'].sum()\n"
   ]
  },
  {
   "cell_type": "code",
   "execution_count": null,
   "id": "0cc220ef",
   "metadata": {},
   "outputs": [],
   "source": [
    "len(tpcs)\n"
   ]
  },
  {
   "cell_type": "code",
   "execution_count": null,
   "id": "d3283b1d",
   "metadata": {},
   "outputs": [],
   "source": [
    "type(tpcs)"
   ]
  },
  {
   "cell_type": "code",
   "execution_count": null,
   "id": "07aa1e5b",
   "metadata": {},
   "outputs": [],
   "source": [
    "tpcs.keys()"
   ]
  },
  {
   "cell_type": "code",
   "execution_count": null,
   "id": "5ea905a2",
   "metadata": {},
   "outputs": [],
   "source": [
    "tpcs['Main']"
   ]
  },
  {
   "cell_type": "code",
   "execution_count": null,
   "id": "12a4bf78",
   "metadata": {},
   "outputs": [],
   "source": [
    "tpcs['KeyBERT']"
   ]
  },
  {
   "cell_type": "code",
   "execution_count": null,
   "id": "709c631a",
   "metadata": {},
   "outputs": [],
   "source": [
    "tpcs['MMR']"
   ]
  },
  {
   "cell_type": "code",
   "execution_count": null,
   "id": "8bb6444e",
   "metadata": {},
   "outputs": [],
   "source": [
    "tpcs['POS']"
   ]
  },
  {
   "cell_type": "code",
   "execution_count": null,
   "id": "b65ed5fd",
   "metadata": {},
   "outputs": [],
   "source": []
  },
  {
   "cell_type": "code",
   "execution_count": null,
   "id": "236871b5",
   "metadata": {},
   "outputs": [],
   "source": []
  },
  {
   "cell_type": "code",
   "execution_count": null,
   "id": "fa465906",
   "metadata": {},
   "outputs": [],
   "source": []
  },
  {
   "cell_type": "code",
   "execution_count": null,
   "id": "40bbba56",
   "metadata": {},
   "outputs": [],
   "source": []
  },
  {
   "cell_type": "code",
   "execution_count": null,
   "id": "0efebd85",
   "metadata": {},
   "outputs": [],
   "source": []
  }
 ],
 "metadata": {
  "kernelspec": {
   "display_name": "Python 3",
   "language": "python",
   "name": "python3"
  },
  "language_info": {
   "codemirror_mode": {
    "name": "ipython",
    "version": 3
   },
   "file_extension": ".py",
   "mimetype": "text/x-python",
   "name": "python",
   "nbconvert_exporter": "python",
   "pygments_lexer": "ipython3",
   "version": "3.12.1"
  }
 },
 "nbformat": 4,
 "nbformat_minor": 5
}
